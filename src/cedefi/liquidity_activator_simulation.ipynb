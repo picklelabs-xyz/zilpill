{
 "cells": [
  {
   "cell_type": "code",
   "execution_count": 71,
   "metadata": {
    "pycharm": {
     "name": "#%%\n"
    }
   },
   "outputs": [],
   "source": [
    "import os\n",
    "import sys\n",
    "project_path = os.path.abspath(os.path.join('../..'))\n",
    "if project_path not in sys.path:\n",
    "    sys.path.append(project_path)\n",
    "# os.path.split(os.path.split(os.getcwd())[0])[0]"
   ]
  },
  {
   "cell_type": "code",
   "execution_count": 72,
   "metadata": {
    "pycharm": {
     "name": "#%%\n"
    }
   },
   "outputs": [],
   "source": [
    "import src.CONSTANTS as CNSTS\n",
    "import os\n",
    "import src.CONF as CONF\n",
    "import json\n",
    "from src.stk import zillion\n",
    "from src.utils import email_info\n",
    "from datetime import datetime\n",
    "from dotenv import load_dotenv\n",
    "from binance.client import Client\n",
    "import csv\n",
    "import talib"
   ]
  },
  {
   "cell_type": "code",
   "execution_count": 73,
   "metadata": {},
   "outputs": [],
   "source": [
    "load_dotenv()\n",
    "personal_env = os.getenv(CONF.PERSONAL_ENV_FILE)\n",
    "load_dotenv(personal_env)\n",
    "\n",
    "api_key = os.getenv(CONF.BIN_WALLET_1_API_1[\"API_KEY\"])\n",
    "api_secret = os.getenv(CONF.BIN_WALLET_1_API_1[\"API_SECRET\"])\n",
    "\n",
    "client = Client(api_key, api_secret)\n",
    "\n",
    "start_date = \"5 Feb, 2021\"\n",
    "end_date = \"20 Feb, 2021\"\n",
    "asset_pair = 'ZILUSDT'\n",
    "data_type = \"kline_15m\"\n",
    "\n",
    "# candles = client.get_klines(symbol='BTCUSDT', interval=Client.KLINE_INTERVAL_30MINUTE)\n",
    "candles = client.get_historical_klines(asset_pair,\n",
    "                                       Client.KLINE_INTERVAL_15MINUTE,\n",
    "                                       start_date,\n",
    "                                       end_date\n",
    "                                       )"
   ]
  },
  {
   "cell_type": "code",
   "execution_count": null,
   "metadata": {},
   "outputs": [],
   "source": [
    "# pool in: 10000 Zil, 5000 USD on 1 April' 2021\n",
    "# pool out: atleast 10000 +- 500 Zil, atleast 5000 USD +- 5%, on 1 May' 2021\n",
    "# maximize time stayed in the pool, while minimizing the impermanent loss"
   ]
  },
  {
   "cell_type": "code",
   "execution_count": 70,
   "metadata": {},
   "outputs": [],
   "source": [
    "# candles"
   ]
  },
  {
   "cell_type": "code",
   "execution_count": 46,
   "metadata": {},
   "outputs": [],
   "source": [
    "# parameters"
   ]
  },
  {
   "cell_type": "code",
   "execution_count": 48,
   "metadata": {},
   "outputs": [],
   "source": [
    "asset1_borrow_rate = 5 # Rate of borrowing an asset from a centralized exchange or a smart contract etc.\n",
    "asset2_borrow_rate = 10"
   ]
  },
  {
   "cell_type": "code",
   "execution_count": 51,
   "metadata": {},
   "outputs": [],
   "source": [
    "up_liquidity_range_constraint = 5 # Percentange change in liquidity "
   ]
  },
  {
   "cell_type": "code",
   "execution_count": 52,
   "metadata": {},
   "outputs": [],
   "source": [
    "asset1_price_in_usd = 0.17\n",
    "asset2_price_in_usd = 1"
   ]
  },
  {
   "cell_type": "code",
   "execution_count": 53,
   "metadata": {},
   "outputs": [],
   "source": [
    "asset1_pool_target_weight = 0.5\n",
    "asset2_pool_target_weight = 0.5"
   ]
  },
  {
   "cell_type": "code",
   "execution_count": 54,
   "metadata": {},
   "outputs": [],
   "source": [
    "asset1_price_change = 0.5\n",
    "asset2_price_change = 0"
   ]
  },
  {
   "cell_type": "code",
   "execution_count": 56,
   "metadata": {},
   "outputs": [],
   "source": [
    "invested_amount = 10000 # in $ i.e. 10K$"
   ]
  },
  {
   "cell_type": "code",
   "execution_count": 74,
   "metadata": {},
   "outputs": [],
   "source": [
    "asset1_initial_amount = (invested_amount * asset1_pool_target_weight) / asset1_price_in_usd\n",
    "asset2_initial_amount = (invested_amount * asset2_pool_target_weight) / asset2_price_in_usd"
   ]
  },
  {
   "cell_type": "code",
   "execution_count": 75,
   "metadata": {},
   "outputs": [],
   "source": [
    "pool_asset1_initial_amount = asset1_initial_amount * 1000\n",
    "pool_asset2_initial_amount = asset2_initial_amount * 1000"
   ]
  },
  {
   "cell_type": "code",
   "execution_count": 76,
   "metadata": {},
   "outputs": [
    {
     "name": "stdout",
     "output_type": "stream",
     "text": [
      "29411.76470588235\n",
      "5000.0\n"
     ]
    }
   ],
   "source": [
    "print(asset1_initial_amount)\n",
    "print(asset2_initial_amount)\n",
    "\n",
    "# based on the price change in binance, and relative asset1-asset2 price change, \n",
    "# what would be amount of my pooled assets: 29411 -> 20000, 5000 -> 6000"
   ]
  },
  {
   "cell_type": "code",
   "execution_count": 59,
   "metadata": {},
   "outputs": [],
   "source": [
    "# Assuming a high asset1-asset2 dex pool, i.e. <1% slippage for any invested amount\n",
    "# investment/pool_total_liquidity"
   ]
  },
  {
   "cell_type": "code",
   "execution_count": 60,
   "metadata": {},
   "outputs": [],
   "source": [
    "# Following constant product formula i.e. x*y=k, \n",
    "# calculate the amount of assets remaining after the given price chnage (%) in the assets "
   ]
  },
  {
   "cell_type": "code",
   "execution_count": 61,
   "metadata": {},
   "outputs": [],
   "source": [
    "asset1_current_price_in_usd = asset1_price_in_usd * (1 + asset1_price_change)\n",
    "asset2_current_price_in_usd = asset2_price_in_usd * (1 + asset2_price_change)"
   ]
  },
  {
   "cell_type": "code",
   "execution_count": 62,
   "metadata": {},
   "outputs": [
    {
     "data": {
      "text/plain": [
       "0.255"
      ]
     },
     "execution_count": 62,
     "metadata": {},
     "output_type": "execute_result"
    }
   ],
   "source": [
    "asset1_current_price_in_usd"
   ]
  },
  {
   "cell_type": "code",
   "execution_count": null,
   "metadata": {},
   "outputs": [],
   "source": [
    "# product = pool_token_count * pool_zil_count\n",
    "# pool_token_amount_after_tx = pool_token_count + token_amount_to_be_sold\n",
    "# token_price_for_tx = (pool_zil_count - product / pool_token_amount_after_tx) / token_amount_to_be_sold\n",
    "# token_price_for_tx = token_price_for_tx - ((fees / 100) * token_price_for_tx)"
   ]
  },
  {
   "cell_type": "code",
   "execution_count": 67,
   "metadata": {},
   "outputs": [],
   "source": [
    "product = pool_asset1_initial_amount * pool_asset2_initial_amount"
   ]
  },
  {
   "cell_type": "code",
   "execution_count": 68,
   "metadata": {},
   "outputs": [
    {
     "data": {
      "text/plain": [
       "147058823529411.75"
      ]
     },
     "execution_count": 68,
     "metadata": {},
     "output_type": "execute_result"
    }
   ],
   "source": [
    "product "
   ]
  },
  {
   "cell_type": "code",
   "execution_count": null,
   "metadata": {},
   "outputs": [],
   "source": [
    "# def get"
   ]
  },
  {
   "cell_type": "code",
   "execution_count": null,
   "metadata": {},
   "outputs": [],
   "source": [
    "relative_price_change = "
   ]
  },
  {
   "cell_type": "code",
   "execution_count": null,
   "metadata": {},
   "outputs": [],
   "source": [
    "# what 1 transaction would bring a change of price of x% in asset1 in the pool\n",
    "# a buy order of asset1 would increase the price, while a sell order decreases the price\n",
    "# calculate the amount of asset1 tokens need to be bought from this pool to \n",
    "# increase asset1 price by x%"
   ]
  },
  {
   "cell_type": "code",
   "execution_count": null,
   "metadata": {},
   "outputs": [],
   "source": [
    "# pool_token_amount_after_tx = pool_token_count + token_amount_to_be_sold"
   ]
  },
  {
   "cell_type": "code",
   "execution_count": null,
   "metadata": {},
   "outputs": [],
   "source": [
    "asset1_current_amount = ( * asset1_pool_target_weight) / asset1_current_price_in_usd\n",
    "asset2_current_amount = ( * asset2_pool_target_weight) / asset2_current_price_in_usd"
   ]
  },
  {
   "cell_type": "code",
   "execution_count": null,
   "metadata": {},
   "outputs": [],
   "source": []
  },
  {
   "cell_type": "code",
   "execution_count": null,
   "metadata": {},
   "outputs": [],
   "source": [
    "# rate of change of asset price also matters for impermanent loss\n",
    "# price can decrease or rise mildly or sharply, would need to define some price curves"
   ]
  },
  {
   "cell_type": "code",
   "execution_count": null,
   "metadata": {},
   "outputs": [],
   "source": [
    "# roi through liquidity mining is defined by the time spent by the liquidity spent in the pool, which in turn\n",
    "# gives the amount of fees earned and the governance token rewards"
   ]
  },
  {
   "cell_type": "code",
   "execution_count": null,
   "metadata": {},
   "outputs": [],
   "source": [
    "# track binance price continuously, if it changes by 2%, then remove the liquidity\n",
    "# also note that there could be a lag between the binance prices and the dex price or vice versa (in some cases)\n",
    "# leading to arbitrage opportunities"
   ]
  },
  {
   "cell_type": "code",
   "execution_count": null,
   "metadata": {},
   "outputs": [],
   "source": [
    "asset1_initial_amount"
   ]
  },
  {
   "cell_type": "code",
   "execution_count": null,
   "metadata": {},
   "outputs": [],
   "source": []
  }
 ],
 "metadata": {
  "kernelspec": {
   "display_name": "zil",
   "language": "python",
   "name": "zil"
  },
  "language_info": {
   "codemirror_mode": {
    "name": "ipython",
    "version": 3
   },
   "file_extension": ".py",
   "mimetype": "text/x-python",
   "name": "python",
   "nbconvert_exporter": "python",
   "pygments_lexer": "ipython3",
   "version": "3.8.5"
  }
 },
 "nbformat": 4,
 "nbformat_minor": 1
}
