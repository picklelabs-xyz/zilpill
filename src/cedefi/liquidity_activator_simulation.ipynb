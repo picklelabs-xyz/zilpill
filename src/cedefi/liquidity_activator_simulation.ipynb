{
 "cells": [
  {
   "cell_type": "code",
   "execution_count": 3,
   "metadata": {
    "pycharm": {
     "name": "#%%\n"
    }
   },
   "outputs": [],
   "source": [
    "import os\n",
    "import sys\n",
    "project_path = os.path.abspath(os.path.join('../..'))\n",
    "if project_path not in sys.path:\n",
    "    sys.path.append(project_path)\n",
    "# os.path.split(os.path.split(os.getcwd())[0])[0]"
   ]
  },
  {
   "cell_type": "code",
   "execution_count": 37,
   "metadata": {
    "pycharm": {
     "name": "#%%\n"
    }
   },
   "outputs": [],
   "source": [
    "import src.CONSTANTS as CNSTS\n",
    "import os\n",
    "import src.CONF as CONF\n",
    "import json\n",
    "import math\n",
    "from src.stk import zillion\n",
    "from src.utils import email_info\n",
    "from datetime import datetime\n",
    "from dotenv import load_dotenv\n",
    "from binance.client import Client\n",
    "import csv\n",
    "import talib"
   ]
  },
  {
   "cell_type": "code",
   "execution_count": 5,
   "metadata": {},
   "outputs": [],
   "source": [
    "def get_binance_data():\n",
    "    load_dotenv()\n",
    "    personal_env = os.getenv(CONF.PERSONAL_ENV_FILE)\n",
    "    load_dotenv(personal_env)\n",
    "\n",
    "    api_key = os.getenv(CONF.BIN_WALLET_1_API_1[\"API_KEY\"])\n",
    "    api_secret = os.getenv(CONF.BIN_WALLET_1_API_1[\"API_SECRET\"])\n",
    "\n",
    "    client = Client(api_key, api_secret)\n",
    "\n",
    "    start_date = \"5 Feb, 2021\"\n",
    "    end_date = \"20 Feb, 2021\"\n",
    "    asset_pair = 'ZILUSDT'\n",
    "    data_type = \"kline_15m\"\n",
    "\n",
    "    # candles = client.get_klines(symbol='BTCUSDT', interval=Client.KLINE_INTERVAL_30MINUTE)\n",
    "    candles = client.get_historical_klines(asset_pair,\n",
    "                                           Client.KLINE_INTERVAL_15MINUTE,\n",
    "                                           start_date,\n",
    "                                           end_date\n",
    "                                           )\n",
    "    return candles\n",
    "    "
   ]
  },
  {
   "cell_type": "code",
   "execution_count": 6,
   "metadata": {},
   "outputs": [],
   "source": [
    "# pool in: 10000 Zil, 5000 USD on 1 April' 2021\n",
    "# pool out: atleast 10000 +- 500 Zil, atleast 5000 USD +- 5%, on 1 May' 2021\n",
    "# maximize time stayed in the pool, while minimizing the impermanent loss"
   ]
  },
  {
   "cell_type": "code",
   "execution_count": 7,
   "metadata": {},
   "outputs": [],
   "source": [
    "# candles"
   ]
  },
  {
   "cell_type": "code",
   "execution_count": 8,
   "metadata": {},
   "outputs": [],
   "source": [
    "# parameters"
   ]
  },
  {
   "cell_type": "code",
   "execution_count": null,
   "metadata": {},
   "outputs": [],
   "source": [
    "# if asset1 changes by delta_asset1 %, and asset2 changes by delta_asset2 %, then calculate new relative price\n",
    "def get_updated_price(asset_price_in_usd, asset_price_delta):\n",
    "    return asset_price_in_usd * (1 + asset_price_delta)\n",
    "\n",
    "\n",
    "def get_current_total_worth(asset1_amount, asset1_price, asset2_amount, asset2_price):\n",
    "    return asset1_amount * asset1_price + asset2_amount * asset2_price\n",
    "\n",
    "\n",
    "def get_pool_asset_amounts(asset1_amount,\n",
    "                           asset2_amount,\n",
    "                           updated_asset1_rel_price_to_asset2):\n",
    "    asset1_rel_price_to_asset2 = asset2_amount/asset1_amount\n",
    "    print(asset1_rel_price_to_asset2)\n",
    "    constant_product = asset1_amount * asset2_amount\n",
    "    asset1_updated_amount = math.sqrt((asset1_rel_price_to_asset2/updated_asset1_rel_price_to_asset2)\n",
    "                                     * asset1_amount * asset1_amount)\n",
    "    asset2_updated_amount = constant_product/asset1_updated_amount\n",
    "    return asset1_updated_amount, asset2_updated_amount\n"
   ]
  },
  {
   "cell_type": "code",
   "execution_count": null,
   "metadata": {},
   "outputs": [],
   "source": [
    "asset1_pool_target_weight = 0.5\n",
    "asset2_pool_target_weight = 0.5\n",
    "\n",
    "# asset1_borrow_rate = 5 # Rate of borrowing an asset from a centralized exchange or a smart contract etc.\n",
    "# asset2_borrow_rate = 10\n",
    "# asset1_liquidity_range_constraint = 5 # Percentage change in liquidity +- both, can be separated as well\n",
    "\n",
    "asset1_price_in_usd = 0.17\n",
    "asset2_price_in_usd = 1\n",
    "\n",
    "asset1_rel_price_in_asset2 = asset1_price_in_usd/asset2_price_in_usd\n",
    "\n",
    "user_invested_amount_in_usd = 100000\n"
   ]
  },
  {
   "cell_type": "code",
   "execution_count": null,
   "metadata": {},
   "outputs": [],
   "source": [
    "asset1_price_delta = 0.248 # In percentage\n",
    "asset1_updated_price = get_updated_price(asset1_price_in_usd, asset1_price_delta)\n",
    "\n",
    "asset2_price_delta = 0.0 # In percentage\n",
    "asset2_updated_price = get_updated_price(asset2_price_in_usd, asset2_price_delta)\n",
    "\n",
    "asset1_updated_rel_price_in_asset2 = asset1_updated_price/asset2_updated_price\n",
    "\n",
    "# assuming a delta of 1-5% change in reaching the target price change in asset 1\n",
    "\n",
    "user_asset1_initial_amount = (user_invested_amount_in_usd * asset1_pool_target_weight) / asset1_price_in_usd\n",
    "user_asset2_initial_amount = (user_invested_amount_in_usd * asset2_pool_target_weight) / asset2_price_in_usd\n"
   ]
  },
  {
   "cell_type": "code",
   "execution_count": null,
   "metadata": {},
   "outputs": [],
   "source": [
    "# m * x * x = k, where m is relative price of x in terms of y\n",
    "# Assuming a high asset1-asset2 dex pool, i.e. <1% slippage for any invested amount\n",
    "# investment/pool_total_liquidity\n",
    "# Following constant product formula i.e. x*y=k, \n",
    "# calculate the amount of assets remaining after the given price chnage (%) in the assets "
   ]
  },
  {
   "cell_type": "code",
   "execution_count": null,
   "metadata": {},
   "outputs": [],
   "source": [
    "print(\"Initial worth\", get_current_total_worth(user_asset1_initial_amount, asset1_price_in_usd,\n",
    "                                               user_asset2_initial_amount, asset2_price_in_usd))\n",
    "\n",
    "# To ignore slippage for the simulation, assume a very high amount of liquidity in the select pool\n",
    "asset_pool_liquidity_multiplier = 1000\n",
    "pool_asset1_initial_amount = user_asset1_initial_amount * asset_pool_liquidity_multiplier\n",
    "pool_asset2_initial_amount = user_asset2_initial_amount * asset_pool_liquidity_multiplier\n",
    "\n"
   ]
  },
  {
   "cell_type": "code",
   "execution_count": null,
   "metadata": {},
   "outputs": [],
   "source": []
  },
  {
   "cell_type": "code",
   "execution_count": null,
   "metadata": {},
   "outputs": [],
   "source": [
    "print(\"zil initial: \", asset1_rel_price_in_asset2)\n",
    "print(\"zil updated: \", asset1_updated_rel_price_in_asset2)\n",
    "\n",
    "pool_asset1_updated_amount, pool_asset2_updated_amount = get_pool_asset_amounts(pool_asset1_initial_amount,\n",
    "                                                                                pool_asset2_initial_amount,\n",
    "                                                                                asset1_updated_rel_price_in_asset2)\n",
    "user_asset1_updated_amount = pool_asset1_updated_amount/asset_pool_liquidity_multiplier\n",
    "user_asset2_updated_amount = pool_asset2_updated_amount/asset_pool_liquidity_multiplier\n",
    "\n",
    "\n",
    "print(\"zil: \", user_asset1_initial_amount)\n",
    "print(\"usd: \", user_asset2_initial_amount)\n",
    "print(\"zil change: \", asset1_price_delta * 100, \" %\")\n",
    "print(\"zil: \", user_asset1_updated_amount)\n",
    "print(\"usd: \", user_asset2_updated_amount)\n",
    "\n",
    "current_worth = get_current_total_worth(user_asset1_updated_amount, asset1_updated_price,\n",
    "                        user_asset2_updated_amount, asset2_updated_price)\n",
    "print(\"Current worth\", current_worth)\n",
    "\n",
    "hold_strategy_worth = get_current_total_worth(user_asset1_initial_amount, asset1_updated_price,\n",
    "                                                     user_asset2_initial_amount, asset2_updated_price)\n",
    "print(\"Hold strategy worth\", hold_strategy_worth)\n",
    "impermanent_loss = round(((current_worth-hold_strategy_worth)/hold_strategy_worth) * 100, 2)\n",
    "print(\"Impermanent loss: \", impermanent_loss)\n",
    "\n",
    "print(\"Asset 1 % change: \", round(((user_asset1_updated_amount - user_asset1_initial_amount)/user_asset1_initial_amount)*100, 2))"
   ]
  },
  {
   "cell_type": "code",
   "execution_count": 18,
   "metadata": {},
   "outputs": [],
   "source": []
  },
  {
   "cell_type": "code",
   "execution_count": 19,
   "metadata": {},
   "outputs": [],
   "source": []
  },
  {
   "cell_type": "code",
   "execution_count": 89,
   "metadata": {},
   "outputs": [],
   "source": [
    "asset1_current_price_in_usd = asset1_price_in_usd * (1 + asset1_price_change)\n",
    "asset2_current_price_in_usd = asset2_price_in_usd * (1 + asset2_price_change)"
   ]
  },
  {
   "cell_type": "code",
   "execution_count": 90,
   "metadata": {},
   "outputs": [
    {
     "data": {
      "text/plain": [
       "0.255"
      ]
     },
     "execution_count": 90,
     "metadata": {},
     "output_type": "execute_result"
    }
   ],
   "source": [
    "asset1_current_price_in_usd"
   ]
  },
  {
   "cell_type": "code",
   "execution_count": null,
   "metadata": {},
   "outputs": [],
   "source": [
    "# product = pool_token_count * pool_zil_count\n",
    "# pool_token_amount_after_tx = pool_token_count + token_amount_to_be_sold\n",
    "# token_price_for_tx = (pool_zil_count - product / pool_token_amount_after_tx) / token_amount_to_be_sold\n",
    "# token_price_for_tx = token_price_for_tx - ((fees / 100) * token_price_for_tx)"
   ]
  },
  {
   "cell_type": "code",
   "execution_count": 67,
   "metadata": {},
   "outputs": [],
   "source": [
    "product = pool_asset1_initial_amount * pool_asset2_initial_amount"
   ]
  },
  {
   "cell_type": "code",
   "execution_count": null,
   "metadata": {},
   "outputs": [],
   "source": []
  },
  {
   "cell_type": "code",
   "execution_count": 68,
   "metadata": {},
   "outputs": [
    {
     "data": {
      "text/plain": [
       "147058823529411.75"
      ]
     },
     "execution_count": 68,
     "metadata": {},
     "output_type": "execute_result"
    }
   ],
   "source": [
    "product "
   ]
  },
  {
   "cell_type": "code",
   "execution_count": null,
   "metadata": {},
   "outputs": [],
   "source": [
    "# def get"
   ]
  },
  {
   "cell_type": "code",
   "execution_count": null,
   "metadata": {},
   "outputs": [],
   "source": [
    "relative_price_change = 4"
   ]
  },
  {
   "cell_type": "code",
   "execution_count": null,
   "metadata": {},
   "outputs": [],
   "source": [
    "# what 1 transaction would bring a change of price of x% in asset1 in the pool\n",
    "# a buy order of asset1 would increase the price, while a sell order decreases the price\n",
    "# calculate the amount of asset1 tokens need to be bought from this pool to \n",
    "# increase asset1 price by x%"
   ]
  },
  {
   "cell_type": "code",
   "execution_count": null,
   "metadata": {},
   "outputs": [],
   "source": [
    "# pool_token_amount_after_tx = pool_token_count + token_amount_to_be_sold"
   ]
  },
  {
   "cell_type": "code",
   "execution_count": null,
   "metadata": {},
   "outputs": [],
   "source": [
    "asset1_current_amount = ( * asset1_pool_target_weight) / asset1_current_price_in_usd\n",
    "asset2_current_amount = ( * asset2_pool_target_weight) / asset2_current_price_in_usd"
   ]
  },
  {
   "cell_type": "code",
   "execution_count": null,
   "metadata": {},
   "outputs": [],
   "source": []
  },
  {
   "cell_type": "code",
   "execution_count": null,
   "metadata": {},
   "outputs": [],
   "source": [
    "# rate of change of asset price also matters for impermanent loss\n",
    "# price can decrease or rise mildly or sharply, would need to define some price curves"
   ]
  },
  {
   "cell_type": "code",
   "execution_count": null,
   "metadata": {},
   "outputs": [],
   "source": [
    "# roi through liquidity mining is defined by the time spent by the liquidity spent in the pool, which in turn\n",
    "# gives the amount of fees earned and the governance token rewards"
   ]
  },
  {
   "cell_type": "code",
   "execution_count": null,
   "metadata": {},
   "outputs": [],
   "source": [
    "# track binance price continuously, if it changes by 2%, then remove the liquidity\n",
    "# also note that there could be a lag between the binance prices and the dex price or vice versa (in some cases)\n",
    "# leading to arbitrage opportunities"
   ]
  },
  {
   "cell_type": "code",
   "execution_count": null,
   "metadata": {},
   "outputs": [],
   "source": [
    "asset1_initial_amount"
   ]
  },
  {
   "cell_type": "code",
   "execution_count": null,
   "metadata": {},
   "outputs": [],
   "source": []
  }
 ],
 "metadata": {
  "kernelspec": {
   "display_name": "zil",
   "language": "python",
   "name": "zil"
  },
  "language_info": {
   "codemirror_mode": {
    "name": "ipython",
    "version": 3
   },
   "file_extension": ".py",
   "mimetype": "text/x-python",
   "name": "python",
   "nbconvert_exporter": "python",
   "pygments_lexer": "ipython3",
   "version": "3.8.5"
  }
 },
 "nbformat": 4,
 "nbformat_minor": 1
}