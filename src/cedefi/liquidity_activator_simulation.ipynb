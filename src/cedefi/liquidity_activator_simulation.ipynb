{
 "cells": [
  {
   "cell_type": "code",
   "execution_count": 100,
   "metadata": {
    "pycharm": {
     "name": "#%%\n"
    }
   },
   "outputs": [],
   "source": [
    "import os\n",
    "import sys\n",
    "project_path = os.path.abspath(os.path.join('../..'))\n",
    "if project_path not in sys.path:\n",
    "    sys.path.append(project_path)\n",
    "# os.path.split(os.path.split(os.getcwd())[0])[0]"
   ]
  },
  {
   "cell_type": "code",
   "execution_count": 101,
   "metadata": {
    "pycharm": {
     "name": "#%%\n"
    }
   },
   "outputs": [],
   "source": [
    "import src.CONSTANTS as CNSTS\n",
    "import os\n",
    "import src.CONF as CONF\n",
    "import json\n",
    "import math\n",
    "from src.stk import zillion\n",
    "from src.utils import email_info\n",
    "from datetime import datetime\n",
    "from dotenv import load_dotenv\n",
    "from binance.client import Client\n",
    "import csv\n",
    "import talib"
   ]
  },
  {
   "cell_type": "code",
   "execution_count": 102,
   "metadata": {},
   "outputs": [],
   "source": [
    "# 1. Following constant product formula for market making, x * y = k\n",
    "# 2. where, x is the amount of asset 1, and y is the amount of asset 2 pooled in.\n",
    "# 3. Assuming price of asset 1 in relation to asset 2 is m, \n",
    "# 4. then y = m * x, therefore k = x * m * x \n",
    "# 5. Considering a change in relative price of asset 1 to asset 2 i.e. m -> m',\n",
    "# 6. Updated state of pooled assets x -> x', y-> y'\n",
    "# 7. x' * m' * x' = k, therefore x' * m' * x' = x * m * x\n",
    "# 8. x' = sqr_rt((x * m * x)/m')\n",
    "# 9. Assuming m' = n * m, where it can be read as new relative price of asset 1 is n% of the current price\n",
    "# 10. x' = sqr_rt((x * x)/n) \n",
    "# 11. y' = k/x'\n",
    "# 12. Lets consider the $ value of asset 2 unit as v, asset 1 unit $ value (u) would be v * m\n",
    "# 13. Therefore, total worth of the assets would be x * (v * m) + y * v  \n",
    "# 14. Considering the updated $ value of asset 2 as u'\n",
    "# 15. Difference in assets worth would be: (x' * (u' * m') + y' * u') - (x * (u * m) + y * u) \n",
    "# 16. This difference is referred to as impermanent loss i.e. comparing the buy and hold strategy vs putting assets in the pool"
   ]
  },
  {
   "cell_type": "code",
   "execution_count": 103,
   "metadata": {},
   "outputs": [],
   "source": [
    "# Experiment with different price curves, \n",
    "# e.g. assuming a delta of 1-5% change in reaching the target price change in the assets"
   ]
  },
  {
   "cell_type": "code",
   "execution_count": 104,
   "metadata": {},
   "outputs": [],
   "source": [
    "def get_updated_price(price, price_delta):\n",
    "    return price * (1 + price_delta)\n",
    "\n",
    "def k(x, y):\n",
    "    return x * y\n",
    "\n",
    "def worth(x, u, y, v): \n",
    "    return x * u + y * v\n",
    "\n",
    "def worth_with_m(x, y, v, m): \n",
    "    return x * (v * m) + y * v\n",
    "\n",
    "def get_updated_x_y(x, y, m_dash):\n",
    "    m = y/x\n",
    "    product = k(x,y)\n",
    "    x_dash = math.sqrt((m/m_dash) * x * x)\n",
    "    y_dash = product/x_dash\n",
    "    return x_dash, y_dash\n",
    "\n",
    "def impermanent_loss(x, y, x_dash, y_dash, u_dash, v_dash):\n",
    "    original_worth = worth(x, u_dash, y, v_dash)\n",
    "    updated_worth = worth(x_dash, u_dash, y_dash, v_dash)\n",
    "    return (updated_worth - original_worth), original_worth"
   ]
  },
  {
   "cell_type": "code",
   "execution_count": 105,
   "metadata": {},
   "outputs": [],
   "source": [
    "a1_pool_weight = 0.5\n",
    "a2_pool_weight = 0.5\n",
    "\n",
    "a1_borrow_rate = 5 # Rate of borrowing an asset from a centralized exchange or a smart contract etc.\n",
    "a2_borrow_rate = 10\n",
    "\n",
    "# asset1_constraint_range = 5 # Percentage change in liquidity +- both, can be separated as well\n",
    "\n",
    "\n",
    "# Assuming following, user pool in: 10K $, zil at 0.17$, Zil-USD pool\n",
    "# change of 50% price in Zil\n",
    "# Goal is to maximize time stayed in the pool, while minimizing the impermanent loss\n",
    "\n",
    "# Assume asset 1 as x, and asset 2 as y following the above formulation\n",
    "u = 0.17 # $ price of asset 1\n",
    "v = 1 # $ price of asset 2\n",
    "m = u/v\n",
    "delta_u = 0.5 # Percent change\n",
    "u_dash = get_updated_price(u, delta_u)\n",
    "delta_v = 0.0 # Percent change\n",
    "v_dash = get_updated_price(v, delta_v)                           \n",
    "m_dash = u_dash/v_dash"
   ]
  },
  {
   "cell_type": "code",
   "execution_count": 106,
   "metadata": {},
   "outputs": [
    {
     "name": "stdout",
     "output_type": "stream",
     "text": [
      "user x:  29411.76470588235  user y:  5000.0\n",
      "Initial user worth 10000.0\n"
     ]
    }
   ],
   "source": [
    "user_amount_in_usd = 10000\n",
    "user_x = (user_amount_in_usd * a1_pool_weight) / u\n",
    "user_y = (user_amount_in_usd * a2_pool_weight) / v\n",
    "print(\"user x: \", user_x, \" user y: \", user_y)\n",
    "user_worth = worth(user_x, u, user_y, v)\n",
    "print(\"Initial user worth\", user_worth)"
   ]
  },
  {
   "cell_type": "code",
   "execution_count": 107,
   "metadata": {},
   "outputs": [
    {
     "name": "stdout",
     "output_type": "stream",
     "text": [
      "pool x:  29411764.705882348  pool y:  5000000.0\n"
     ]
    }
   ],
   "source": [
    "# To ignore slippage for the simulation, assume a very high amount of liquidity in the select pool\n",
    "# Assuming a high asset1-asset2 dex pool, i.e. <0.1% slippage for any invested amount\n",
    "pool_approx_liq_multiplier = 1000\n",
    "pool_x = user_x * pool_approx_liq_multiplier\n",
    "pool_y = user_y * pool_approx_liq_multiplier\n",
    "print(\"pool x: \", pool_x, \" pool y: \", pool_y)"
   ]
  },
  {
   "cell_type": "code",
   "execution_count": 108,
   "metadata": {},
   "outputs": [
    {
     "name": "stdout",
     "output_type": "stream",
     "text": [
      "pool x:  24014605.32140371  pool y:  6123724.356957944\n"
     ]
    }
   ],
   "source": [
    "pool_x_dash, pool_y_dash = get_updated_x_y(pool_x, pool_y, m_dash)\n",
    "print(\"pool x: \", pool_x_dash, \" pool y: \", pool_y_dash)"
   ]
  },
  {
   "cell_type": "code",
   "execution_count": 109,
   "metadata": {},
   "outputs": [
    {
     "name": "stdout",
     "output_type": "stream",
     "text": [
      "user x:  24014.60532140371  user y:  6123.724356957944\n",
      "Updated user worth 12247.44871391589\n"
     ]
    }
   ],
   "source": [
    "user_x_dash = pool_x_dash / pool_approx_liq_multiplier\n",
    "user_y_dash = pool_y_dash / pool_approx_liq_multiplier\n",
    "print(\"user x: \", user_x_dash, \" user y: \", user_y_dash)\n",
    "user_updated_worth = worth(user_x_dash, u_dash, user_y_dash, v_dash) \n",
    "print(\"Updated user worth\", user_updated_worth)     "
   ]
  },
  {
   "cell_type": "code",
   "execution_count": 110,
   "metadata": {},
   "outputs": [
    {
     "name": "stdout",
     "output_type": "stream",
     "text": [
      "Asset 1 price with  50.0  % change: 0.17  ->  0.255\n",
      "Asset 2 price with  0.0  % change: 1  ->  1.0\n"
     ]
    }
   ],
   "source": [
    "print(\"Asset 1 price with \", round(delta_u*100, 2), \" % change:\" , u, \" -> \", u_dash)\n",
    "print(\"Asset 2 price with \", round(delta_v*100, 2), \" % change:\" , v, \" -> \", v_dash)"
   ]
  },
  {
   "cell_type": "code",
   "execution_count": 111,
   "metadata": {},
   "outputs": [
    {
     "name": "stdout",
     "output_type": "stream",
     "text": [
      "Impermanent loss %:  -0.02\n",
      "User buy and hold worth:  12500.0\n"
     ]
    }
   ],
   "source": [
    "user_buy_hold_worth = worth(user_x, u_dash, user_y, v_dash)\n",
    "il = (user_updated_worth - user_buy_hold_worth)/user_buy_hold_worth\n",
    "print(\"Impermanent loss %: \", round(il, 2))\n",
    "print(\"User buy and hold worth: \", round(user_buy_hold_worth, 2))"
   ]
  },
  {
   "cell_type": "code",
   "execution_count": 112,
   "metadata": {},
   "outputs": [
    {
     "name": "stdout",
     "output_type": "stream",
     "text": [
      "Asset 1 % change:  -18.35\n",
      "Asset 2 % change:  22.47\n"
     ]
    }
   ],
   "source": [
    "print(\"Asset 1 % change: \", round(((user_x_dash - user_x)/user_x)*100, 2))\n",
    "print(\"Asset 2 % change: \", round(((user_y_dash - user_y)/user_y)*100, 2))"
   ]
  },
  {
   "cell_type": "code",
   "execution_count": null,
   "metadata": {},
   "outputs": [],
   "source": []
  },
  {
   "cell_type": "code",
   "execution_count": 54,
   "metadata": {},
   "outputs": [],
   "source": [
    "def get_binance_data():\n",
    "    load_dotenv()\n",
    "    personal_env = os.getenv(CONF.PERSONAL_ENV_FILE)\n",
    "    load_dotenv(personal_env)\n",
    "\n",
    "    api_key = os.getenv(CONF.BIN_WALLET_1_API_1[\"API_KEY\"])\n",
    "    api_secret = os.getenv(CONF.BIN_WALLET_1_API_1[\"API_SECRET\"])\n",
    "\n",
    "    client = Client(api_key, api_secret)\n",
    "\n",
    "    start_date = \"5 Feb, 2021\"\n",
    "    end_date = \"20 Feb, 2021\"\n",
    "    asset_pair = 'ZILUSDT'\n",
    "    data_type = \"kline_15m\"\n",
    "\n",
    "    # candles = client.get_klines(symbol='BTCUSDT', interval=Client.KLINE_INTERVAL_30MINUTE)\n",
    "    candles = client.get_historical_klines(asset_pair,\n",
    "                                           Client.KLINE_INTERVAL_15MINUTE,\n",
    "                                           start_date,\n",
    "                                           end_date\n",
    "                                           )\n",
    "    return candles\n",
    "    "
   ]
  },
  {
   "cell_type": "code",
   "execution_count": null,
   "metadata": {},
   "outputs": [],
   "source": [
    "# product = pool_token_count * pool_zil_count\n",
    "# pool_token_amount_after_tx = pool_token_count + token_amount_to_be_sold\n",
    "# token_price_for_tx = (pool_zil_count - product / pool_token_amount_after_tx) / token_amount_to_be_sold\n",
    "# token_price_for_tx = token_price_for_tx - ((fees / 100) * token_price_for_tx)"
   ]
  },
  {
   "cell_type": "code",
   "execution_count": null,
   "metadata": {},
   "outputs": [],
   "source": [
    "# what 1 transaction would bring a change of price of x% in asset1 in the pool\n",
    "# a buy order of asset1 would increase the price, while a sell order decreases the price\n",
    "# calculate the amount of asset1 tokens need to be bought from this pool to \n",
    "# increase asset1 price by x%\n",
    "# Assuming a high asset1-asset2 dex pool, i.e. <1% slippage for any invested amount\n",
    "# roi through liquidity mining is defined by the time spent by the liquidity spent in the pool, which in turn\n",
    "# gives the amount of fees earned and the governance token rewards\n",
    "# track binance price continuously, if it changes by 2%, then remove the liquidity\n",
    "# also note that there could be a lag between the binance prices and the dex price or vice versa (in some cases)\n",
    "# leading to arbitrage opportunities"
   ]
  }
 ],
 "metadata": {
  "kernelspec": {
   "display_name": "zil",
   "language": "python",
   "name": "zil"
  },
  "language_info": {
   "codemirror_mode": {
    "name": "ipython",
    "version": 3
   },
   "file_extension": ".py",
   "mimetype": "text/x-python",
   "name": "python",
   "nbconvert_exporter": "python",
   "pygments_lexer": "ipython3",
   "version": "3.8.5"
  }
 },
 "nbformat": 4,
 "nbformat_minor": 1
}